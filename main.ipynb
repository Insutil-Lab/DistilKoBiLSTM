{
 "cells": [
  {
   "cell_type": "code",
   "execution_count": null,
   "metadata": {
    "colab": {
     "base_uri": "https://localhost:8080/"
    },
    "executionInfo": {
     "elapsed": 20894,
     "status": "ok",
     "timestamp": 1671973427145,
     "user": {
      "displayName": "염기웅",
      "userId": "17474065399754057575"
     },
     "user_tz": -540
    },
    "id": "fkm9vnO0RmLS",
    "outputId": "90ac2040-e581-46b8-bf7e-9019446fe9b3"
   },
   "outputs": [],
   "source": [
    "from google.colab import drive\n",
    "drive.mount('/content/gdrive/')\n",
    "%cd '/content/gdrive/MyDrive/DistilKoBiLSTM'\n",
    "!pip install torch==1.6.0\n",
    "!pip install torchvision==0.7.0\n",
    "!pip install transformers==3.3.1\n",
    "!pip install pathlib\n",
    "!pip install tokenizersa"
   ]
  },
  {
   "cell_type": "code",
   "execution_count": null,
   "metadata": {
    "executionInfo": {
     "elapsed": 4643,
     "status": "ok",
     "timestamp": 1671973431784,
     "user": {
      "displayName": "염기웅",
      "userId": "17474065399754057575"
     },
     "user_tz": -540
    },
    "id": "czNGPkI_gXO2"
   },
   "outputs": [],
   "source": [
    "import time\n",
    "import datetime\n",
    "import os\n",
    "import torch\n",
    "import torch.nn as nn\n",
    "import torch.optim as optim\n",
    "from torch.utils.data import DataLoader, TensorDataset\n",
    "from torch.utils.data import DataLoader, TensorDataset\n",
    "from transformers import BertTokenizerFast\n",
    "from sklearn.model_selection import train_test_split\n",
    "import pandas as pd\n",
    "import pickle"
   ]
  },
  {
   "cell_type": "code",
   "execution_count": null,
   "metadata": {
    "colab": {
     "base_uri": "https://localhost:8080/",
     "height": 424
    },
    "executionInfo": {
     "elapsed": 1652,
     "status": "ok",
     "timestamp": 1671973433433,
     "user": {
      "displayName": "염기웅",
      "userId": "17474065399754057575"
     },
     "user_tz": -540
    },
    "id": "GWod2LpfgXKd",
    "outputId": "8b4f5047-189b-4182-c769-c47a16544248"
   },
   "outputs": [],
   "source": [
    "df = pd.read_csv(\"dataset.csv\")\n",
    "df"
   ]
  },
  {
   "cell_type": "code",
   "execution_count": null,
   "metadata": {
    "colab": {
     "base_uri": "https://localhost:8080/"
    },
    "executionInfo": {
     "elapsed": 61337,
     "status": "ok",
     "timestamp": 1671973494765,
     "user": {
      "displayName": "염기웅",
      "userId": "17474065399754057575"
     },
     "user_tz": -540
    },
    "id": "jWMUBGnC3Ahf",
    "outputId": "ef728ff9-66b4-461e-decc-6ffbb2a8e895"
   },
   "outputs": [],
   "source": [
    "from utils import Dataset, get_teacher_output\n",
    "from trainer import Distil_Trainer\n",
    "\n",
    "vocab_size = 3000\n",
    "batch_size = 64\n",
    "tokenizer = BertTokenizerFast(vocab_file = \"tokenizer/vocab_size_{}/vocab.txt\".format(str(vocab_size)), lowercase=False, strip_accents=False)\n",
    "dataset = Dataset(tokenizer, tokenizer_type = \"BertTokenizerFast\", batch_size = batch_size)\n",
    "train_iter, test_iter, valid_iter = dataset.load_data(df)"
   ]
  },
  {
   "cell_type": "code",
   "execution_count": null,
   "metadata": {
    "colab": {
     "base_uri": "https://localhost:8080/"
    },
    "id": "sVXPGpRSZOrI",
    "outputId": "502bbe82-a27d-468f-ba2f-0496ff31042b"
   },
   "outputs": [],
   "source": [
    "hidden_dim_list = [128, 256]\n",
    "embedding_dim_list = [64, 128]\n",
    "loss_rate_list = [0.1, 0.9, 0.5]\n",
    "temperature_list = [1, 10, 3]\n",
    "train_epoch = 30\n",
    "\n",
    "teacher_path = \"teacher_model/KoELECTRA-Small-v3/\"\n",
    "teacher_output = get_teacher_output(teacher_path)\n",
    "\n",
    "for hidden_dim in hidden_dim_list:\n",
    "    for embedding_dim in embedding_dim_list:\n",
    "        for loss_rate in loss_rate_list:\n",
    "            for temperature in temperature_list:\n",
    "                print(\"vocab_size : \", vocab_size)\n",
    "                print(\"loss_rate : \", loss_rate)\n",
    "                print(\"temperature: \", temperature)\n",
    "                distil_trainer = Distil_Trainer(hidden_dim = hidden_dim, embedding_dim = embedding_dim, lstm_num_layers = 1, train_epoch = train_epoch,\n",
    "                                                out_put_dir = \"distil_scheduler/vocab_size_{}_loss_rate_{}_temperature_{}/StepLR\".format(str(vocab_size), str(int(loss_rate * 100)), temperature), tokenizer = tokenizer,\n",
    "                                                teacher_output = teacher_output, loss_rate = loss_rate, temperature = temperature)\n",
    "                model = distil_trainer.trainer(train_iter, valid_iter, test_iter)\n",
    "                distil_trainer.tb_writer.flush()\n",
    "                distil_trainer.tb_writer.close()\n",
    "\n",
    "                del [[distil_trainer]]\n",
    "\n",
    "# del [[train_iter, test_iter, valid_iter, model]]"
   ]
  },
  {
   "cell_type": "code",
   "execution_count": null,
   "metadata": {
    "id": "P-5gPTlnQhGg"
   },
   "outputs": [],
   "source": []
  },
  {
   "cell_type": "code",
   "execution_count": null,
   "metadata": {
    "colab": {
     "base_uri": "https://localhost:8080/"
    },
    "executionInfo": {
     "elapsed": 3,
     "status": "ok",
     "timestamp": 1671888075493,
     "user": {
      "displayName": "ForUS AI",
      "userId": "08797084216970697686"
     },
     "user_tz": -540
    },
    "id": "4bkCd52gGL0S",
    "outputId": "2e5e36b1-fa14-4341-c4d2-cb0a2d8cf350"
   },
   "outputs": [],
   "source": [
    "%matplotlib inline\n",
    "%load_ext tensorboard\n",
    "%tensorboard --logdir=logs"
   ]
  },
  {
   "cell_type": "code",
   "execution_count": null,
   "metadata": {
    "id": "gtmwXsiZggkb"
   },
   "outputs": [],
   "source": []
  },
  {
   "cell_type": "code",
   "execution_count": null,
   "metadata": {
    "id": "BHq9liQtg7sU"
   },
   "outputs": [],
   "source": [
    "from utils import count_parameters\n",
    "from modeling_bilstm import BiLSTM\n",
    "\n",
    "input_dim = 4000\n",
    "hidden_dim = 256\n",
    "embedding_dim = 100\n",
    "model = BiLSTM(input_dim = input_dim, hidden_dim = hidden_dim, output_dim = 2, embedding_dim = embedding_dim, lstm_num_layers = 1, dropout = 0.3)\n",
    "count_parameters(model)"
   ]
  }
 ],
 "metadata": {
  "accelerator": "GPU",
  "colab": {
   "provenance": []
  },
  "gpuClass": "standard",
  "kernelspec": {
   "display_name": "Python 3",
   "language": "python",
   "name": "python3"
  },
  "language_info": {
   "codemirror_mode": {
    "name": "ipython",
    "version": 3
   },
   "file_extension": ".py",
   "mimetype": "text/x-python",
   "name": "python",
   "nbconvert_exporter": "python",
   "pygments_lexer": "ipython3",
   "version": "3.8.8"
  }
 },
 "nbformat": 4,
 "nbformat_minor": 1
}
